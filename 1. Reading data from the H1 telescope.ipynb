{
 "cells": [
  {
   "cell_type": "markdown",
   "metadata": {},
   "source": [
    "The data from the H1 radio telescope is stored in binary form, as spectra which are concatenated within the file.\n",
    "\n",
    "To read these we'll need a bit of logic which will reshape the data into something we can perform analysis on.\n",
    "\n",
    "Binary data can be read using the `scipy.fromfile` function."
   ]
  },
  {
   "cell_type": "code",
   "execution_count": 10,
   "metadata": {},
   "outputs": [],
   "source": [
    "import scipy\n",
    "import numpy as np"
   ]
  },
  {
   "cell_type": "markdown",
   "metadata": {},
   "source": [
    "All of the archival data for the telescope is available on the `cassegrain` system.\n",
    "Let's load an example from the 2018 observing campaign."
   ]
  },
  {
   "cell_type": "code",
   "execution_count": 15,
   "metadata": {},
   "outputs": [],
   "source": [
    "datafile = \"/data/cassegrain/srt/archive/srt2018/ra0.00dec10.00time2018-01-30T16:37:00.000.dat\""
   ]
  },
  {
   "cell_type": "markdown",
   "metadata": {},
   "source": [
    "The filename for each observation contains metadata which we can use to determine the sky location of each observation.\n",
    "\n",
    "Using regular expressions we can parse this data, so that we can use it later."
   ]
  },
  {
   "cell_type": "code",
   "execution_count": 16,
   "metadata": {},
   "outputs": [],
   "source": [
    "def extract_metadata(filename):\n",
    "    \"\"\"\n",
    "    Extract all of the meta data contained within the name of a data file.\n",
    "    \n",
    "    Parameters\n",
    "    ----------\n",
    "    filename : str\n",
    "        The name of the file, can optionally include the full path, \n",
    "        in which case the name is taken to be everything after the final\n",
    "        slash.\n",
    "        \n",
    "    Returns\n",
    "    -------\n",
    "    position : `astropy.skycoord`\n",
    "        The sky position at which the file starts\n",
    "    time : `astropy.Time`\n",
    "        The time at which the file starts.\n",
    "    \"\"\"\n",
    "    \n",
    "    a = re.compile(\"ra(.*)dec(.*)time(.*).dat\")\n",
    "    filepath = filename.split('/')\n",
    "\n",
    "    s_ra = float(a.search(filepath[-1]).group(1))\n",
    "    s_dec = float(a.search(filepath[-1]).group(2))\n",
    "    s_time = a.search(filepath[-1]).group(3)\n",
    "    \n",
    "    \n",
    "    time = Time(s_time, format='isot', scale='utc')\n",
    "    position = SkyCoord(s_ra*u.deg, s_dec*u.deg, frame=ICRS, obstime = time)\n",
    "    return position, time"
   ]
  },
  {
   "cell_type": "markdown",
   "metadata": {},
   "source": [
    "We can then use this extracted meta data to prepare the data, which includes \"rolling\" the array so that the first entry corresponds to an RA of 0."
   ]
  },
  {
   "cell_type": "code",
   "execution_count": 17,
   "metadata": {},
   "outputs": [
    {
     "ename": "FileNotFoundError",
     "evalue": "[Errno 2] No such file or directory: '/data/cassegrain/srt/archive/srt2018/ra0.00dec10.00time2018-01-30T16:25:00.000.dat'",
     "output_type": "error",
     "traceback": [
      "\u001b[0;31m---------------------------------------------------------------------------\u001b[0m",
      "\u001b[0;31mFileNotFoundError\u001b[0m                         Traceback (most recent call last)",
      "\u001b[0;32m<ipython-input-17-a003f909dcc9>\u001b[0m in \u001b[0;36m<module>\u001b[0;34m()\u001b[0m\n\u001b[0;32m----> 1\u001b[0;31m \u001b[0mdata\u001b[0m \u001b[0;34m=\u001b[0m \u001b[0mscipy\u001b[0m\u001b[0;34m.\u001b[0m\u001b[0mfromfile\u001b[0m\u001b[0;34m(\u001b[0m\u001b[0mdatafile\u001b[0m\u001b[0;34m,\u001b[0m \u001b[0mdtype\u001b[0m\u001b[0;34m=\u001b[0m\u001b[0mnp\u001b[0m\u001b[0;34m.\u001b[0m\u001b[0mfloat32\u001b[0m\u001b[0;34m)\u001b[0m\u001b[0;34m\u001b[0m\u001b[0m\n\u001b[0m\u001b[1;32m      2\u001b[0m \u001b[0mposition\u001b[0m\u001b[0;34m,\u001b[0m \u001b[0mtime\u001b[0m \u001b[0;34m=\u001b[0m \u001b[0mextract_metadata\u001b[0m\u001b[0;34m(\u001b[0m\u001b[0mdatafile\u001b[0m\u001b[0;34m)\u001b[0m\u001b[0;34m\u001b[0m\u001b[0m\n\u001b[1;32m      3\u001b[0m \u001b[0;34m\u001b[0m\u001b[0m\n\u001b[1;32m      4\u001b[0m \u001b[0mdata\u001b[0m \u001b[0;34m=\u001b[0m \u001b[0mnp\u001b[0m\u001b[0;34m.\u001b[0m\u001b[0mreshape\u001b[0m\u001b[0;34m(\u001b[0m\u001b[0mdata\u001b[0m\u001b[0;34m,\u001b[0m \u001b[0;34m[\u001b[0m\u001b[0;34m-\u001b[0m\u001b[0;36m1\u001b[0m\u001b[0;34m,\u001b[0m\u001b[0;36m256\u001b[0m\u001b[0;34m]\u001b[0m\u001b[0;34m)\u001b[0m\u001b[0;34m\u001b[0m\u001b[0m\n\u001b[1;32m      5\u001b[0m \u001b[0;34m\u001b[0m\u001b[0m\n",
      "\u001b[0;31mFileNotFoundError\u001b[0m: [Errno 2] No such file or directory: '/data/cassegrain/srt/archive/srt2018/ra0.00dec10.00time2018-01-30T16:25:00.000.dat'"
     ]
    }
   ],
   "source": [
    "data = scipy.fromfile(datafile, dtype=np.float32)\n",
    "position, time = extract_metadata(datafile)\n",
    "\n",
    "data = np.reshape(data, [-1,256])\n",
    "\n",
    "roll = int((position.ra/360).value * len(data)/256.0)\n",
    "data = np.roll(data, roll, axis=0)"
   ]
  },
  {
   "cell_type": "code",
   "execution_count": null,
   "metadata": {},
   "outputs": [],
   "source": []
  }
 ],
 "metadata": {
  "kernelspec": {
   "display_name": "Python 3",
   "language": "python",
   "name": "python3"
  },
  "language_info": {
   "codemirror_mode": {
    "name": "ipython",
    "version": 3
   },
   "file_extension": ".py",
   "mimetype": "text/x-python",
   "name": "python",
   "nbconvert_exporter": "python",
   "pygments_lexer": "ipython3",
   "version": "3.5.2"
  }
 },
 "nbformat": 4,
 "nbformat_minor": 2
}
